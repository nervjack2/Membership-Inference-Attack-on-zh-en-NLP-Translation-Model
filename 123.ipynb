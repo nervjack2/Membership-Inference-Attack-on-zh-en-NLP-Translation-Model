{
 "cells": [
  {
   "cell_type": "code",
   "execution_count": null,
   "metadata": {},
   "outputs": [],
   "source": [
    "from sklearn.ensemble import RandomForestRegressor\n",
    "from xgboost import XGBRegressor\n",
    "from sklearn.neural_network import MLPRegressor\n",
    "from sklearn.neighbors import KNeighborsRegressor\n",
    "\n",
    "X_train, X_test, y_train, y_test = train_test_split(X, y, test_size=0.2, random_state=902022)\n",
    "rfc = RandomForestRegressor()\n",
    "rfc.fit(X_train, y_train)\n",
    "print('The accuracy of Random Forest Regressor on training set:', rfc.score(X_train, y_train))\n",
    "print('The accuracy of Random Forest Regressor on testing set:', rfc.score(X_test, y_test))\n",
    "xgbc = XGBRegressor()\n",
    "xgbc.fit(X_train, y_train)\n",
    "print('The accuracy of eXtreme Gradient Boosting Regressor on training set:', xgbc.score(X_train, y_train))\n",
    "print('The accuracy of eXtreme Gradient Boosting Regressor on testing set:', xgbc.score(X_test, y_test))\n",
    "clf = MLPRegressor()\n",
    "clf.fit(X_train, y_train)\n",
    "print('The accuracy of MLP Regressor on training set:', clf.score(X_train, y_train))\n",
    "print('The accuracy of MLP Regressor on testing set:', clf.score(X_test, y_test))\n",
    "Regressor = KNeighborsRegressor(n_neighbors=5)\n",
    "Regressor.fit(X_train, y_train)\n",
    "print('The accuracy of KNN on testing set:', Regressor.score(X_train, y_train))\n",
    "print('The accuracy of KNN on testing set:', Regressor.score(X_test, y_test))\n"
   ]
  }
 ],
 "metadata": {
  "interpreter": {
   "hash": "df78dd037d091cdcd4c8ab510adf52376e642a3603acfd5cd746c9c6ee216ddb"
  },
  "kernelspec": {
   "display_name": "Python 3.8.12 64-bit ('SPML': conda)",
   "language": "python",
   "name": "python3"
  },
  "language_info": {
   "name": "python",
   "version": "3.8.12"
  },
  "orig_nbformat": 4
 },
 "nbformat": 4,
 "nbformat_minor": 2
}
